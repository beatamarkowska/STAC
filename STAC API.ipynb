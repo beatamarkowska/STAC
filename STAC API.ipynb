{
 "cells": [
  {
   "cell_type": "markdown",
   "id": "b14878da-edef-46a5-b338-8c7fc3a76ac3",
   "metadata": {},
   "source": [
    "Load SpatioTemporal Asset Catalogs (STAC) collections in WherobotsDB\n",
    "Connecting to a STAC API: Learn how to establish a connection to a STAC API endpoint.\n",
    "Searching items and load them into WherobotsDB: See how to load STAC collections into WherobotsDB for further analysis.\n",
    "Applying Spatial and Temporal Filters: Learn to filter the data based on spatial and temporal criteria to focus on specific areas and time periods.\n",
    "Saving Data: Discover how to save the filtered data into various formats for further use.\n",
    "\n",
    "The STAC data source enables seamless integration with SpatioTemporal Asset Catalog (STAC) APIs, allowing users to efficiently read and interact with geospatial data. This data source supports reading both STAC items and collections, making it a versatile tool for various geospatial data processing tasks. To utilize the STAC data source, you can load a STAC catalog into a Sedona DataFrame using the stac format. The path can be either a local STAC collection JSON file or an HTTP/HTTPS endpoint to retrieve the collection JSON file. This flexibility allows for easy access to both locally stored and remotely hosted STAC data.\n",
    "\n",
    "Technical Details:\n",
    "STAC API Integration: Connect to any STAC-compliant API to fetch and process geospatial data.\n",
    "DataFrame Support: Load STAC data directly into a Sedona DataFrame for further analysis and processing using Spark.\n",
    "Flexible Input Paths: Accepts both local file paths and remote URLs, providing versatility in data sourcing.\n",
    "Potential Use Cases:\n",
    "Geospatial Data Analysis: Perform complex spatial queries and analyses on large geospatial datasets.\n",
    "Environmental Monitoring: Access and analyze satellite imagery and other remote sensing data for environmental studies.\n",
    "Urban Planning: Utilize geospatial data to support urban development and infrastructure planning.\n",
    "Disaster Response: Quickly access and process geospatial data to aid in disaster response and recovery efforts."
   ]
  },
  {
   "cell_type": "markdown",
   "id": "7b220c0b-ee46-476d-8b0a-9a22ebcd751e",
   "metadata": {},
   "source": [
    "STAC datasources are hosted on AWS S3, and to configure Apache Sedona for anonymous access to an Amazon S3 bucket, you can set the spark.hadoop.fs.s3a.bucket..aws.credentials.provider property to org.apache.hadoop.fs.s3a.AnonymousAWSCredentialsProvider. This setting directs Sedona to use the AnonymousAWSCredentialsProvider, enabling access to publicly accessible S3 buckets without requiring AWS credentials."
   ]
  },
  {
   "cell_type": "code",
   "execution_count": 1,
   "id": "d8bd76e1-e290-4c63-b1b9-0abb5da3891a",
   "metadata": {
    "execution": {
     "iopub.execute_input": "2025-03-24T14:26:05.756785Z",
     "iopub.status.busy": "2025-03-24T14:26:05.756539Z",
     "iopub.status.idle": "2025-03-24T14:26:30.495925Z",
     "shell.execute_reply": "2025-03-24T14:26:30.494743Z",
     "shell.execute_reply.started": "2025-03-24T14:26:05.756767Z"
    }
   },
   "outputs": [
    {
     "name": "stderr",
     "output_type": "stream",
     "text": [
      "Setting default log level to \"WARN\".\n",
      "To adjust logging level use sc.setLogLevel(newLevel). For SparkR, use setLogLevel(newLevel).\n",
      "                                                                                \r"
     ]
    }
   ],
   "source": [
    "from sedona.spark import *\n",
    "\n",
    "config = SedonaContext.builder() \\\n",
    "    .config(\"spark.hadoop.fs.s3a.bucket.e84-earth-search-sentinel-data.aws.credentials.provider\", \"org.apache.hadoop.fs.s3a.AnonymousAWSCredentialsProvider\")\\\n",
    "    .getOrCreate()\n",
    "sedona = SedonaContext.create(config)\n",
    "\n"
   ]
  },
  {
   "cell_type": "markdown",
   "id": "b9a1fa70-dbe7-4f9c-b42a-54addec04a09",
   "metadata": {},
   "source": [
    "Usege Apache Sedona and PySpark to load STAC data from the Sentinel-2 collection via a specified URL. It then explodes the “assets” map into key-value pairs, extracting the “href” and “rast” fields from the “value” struct. "
   ]
  },
  {
   "cell_type": "code",
   "execution_count": 2,
   "id": "da98b82c-54b0-4700-8820-5be8a3563271",
   "metadata": {
    "execution": {
     "iopub.execute_input": "2025-03-24T14:26:42.181094Z",
     "iopub.status.busy": "2025-03-24T14:26:42.180566Z",
     "iopub.status.idle": "2025-03-24T14:26:42.184188Z",
     "shell.execute_reply": "2025-03-24T14:26:42.183605Z",
     "shell.execute_reply.started": "2025-03-24T14:26:42.181075Z"
    }
   },
   "outputs": [],
   "source": [
    "from pyspark.sql.functions import col, explode, map_values"
   ]
  },
  {
   "cell_type": "code",
   "execution_count": 3,
   "id": "cbc2d846-6630-4993-8e70-af4791e25c41",
   "metadata": {
    "execution": {
     "iopub.execute_input": "2025-03-24T14:26:45.101444Z",
     "iopub.status.busy": "2025-03-24T14:26:45.100894Z",
     "iopub.status.idle": "2025-03-24T14:26:45.496049Z",
     "shell.execute_reply": "2025-03-24T14:26:45.495442Z",
     "shell.execute_reply.started": "2025-03-24T14:26:45.101417Z"
    }
   },
   "outputs": [
    {
     "name": "stdout",
     "output_type": "stream",
     "text": [
      "root\n",
      " |-- stac_version: string (nullable = false)\n",
      " |-- stac_extensions: array (nullable = true)\n",
      " |    |-- element: string (containsNull = true)\n",
      " |-- type: string (nullable = false)\n",
      " |-- id: string (nullable = false)\n",
      " |-- bbox: array (nullable = true)\n",
      " |    |-- element: double (containsNull = true)\n",
      " |-- geometry: geometry (nullable = true)\n",
      " |-- title: string (nullable = true)\n",
      " |-- description: string (nullable = true)\n",
      " |-- datetime: timestamp (nullable = true)\n",
      " |-- start_datetime: timestamp (nullable = true)\n",
      " |-- end_datetime: timestamp (nullable = true)\n",
      " |-- created: timestamp (nullable = true)\n",
      " |-- updated: timestamp (nullable = true)\n",
      " |-- platform: string (nullable = true)\n",
      " |-- instruments: array (nullable = true)\n",
      " |    |-- element: string (containsNull = true)\n",
      " |-- constellation: string (nullable = true)\n",
      " |-- mission: string (nullable = true)\n",
      " |-- gsd: double (nullable = true)\n",
      " |-- collection: string (nullable = true)\n",
      " |-- links: array (nullable = true)\n",
      " |    |-- element: struct (containsNull = true)\n",
      " |    |    |-- rel: string (nullable = true)\n",
      " |    |    |-- href: string (nullable = true)\n",
      " |    |    |-- type: string (nullable = true)\n",
      " |    |    |-- title: string (nullable = true)\n",
      " |-- assets: map (nullable = true)\n",
      " |    |-- key: string\n",
      " |    |-- value: struct (valueContainsNull = true)\n",
      " |    |    |-- href: string (nullable = true)\n",
      " |    |    |-- type: string (nullable = true)\n",
      " |    |    |-- title: string (nullable = true)\n",
      " |    |    |-- roles: array (nullable = true)\n",
      " |    |    |    |-- element: string (containsNull = true)\n",
      " |    |    |-- rast: raster (nullable = true)\n",
      "\n"
     ]
    }
   ],
   "source": [
    "# Load from STAC datasource\n",
    "df = sedona.read.format(\"stac\") \\\n",
    "    .load(\"https://earth-search.aws.element84.com/v1/collections/sentinel-2-c1-l2a\") \\\n",
    "    .orderBy(col(\"datetime\").desc())\n",
    "df.printSchema() "
   ]
  },
  {
   "cell_type": "code",
   "execution_count": 4,
   "id": "f710c8ad-6640-4cd1-81c7-03fd1c56859b",
   "metadata": {
    "execution": {
     "iopub.execute_input": "2025-03-24T14:26:49.344523Z",
     "iopub.status.busy": "2025-03-24T14:26:49.344293Z",
     "iopub.status.idle": "2025-03-24T14:26:49.373520Z",
     "shell.execute_reply": "2025-03-24T14:26:49.373033Z",
     "shell.execute_reply.started": "2025-03-24T14:26:49.344505Z"
    }
   },
   "outputs": [],
   "source": [
    "# Explode the map into key-value pairs\n",
    "df_exploded = df.select(\"id\", \"datetime\", explode(\"assets\").alias(\"key\", \"value\"))"
   ]
  },
  {
   "cell_type": "code",
   "execution_count": 5,
   "id": "0c185fb1-12a8-4d27-817c-1435d8486510",
   "metadata": {
    "execution": {
     "iopub.execute_input": "2025-03-24T14:26:52.232620Z",
     "iopub.status.busy": "2025-03-24T14:26:52.232376Z",
     "iopub.status.idle": "2025-03-24T14:27:01.523089Z",
     "shell.execute_reply": "2025-03-24T14:27:01.522419Z",
     "shell.execute_reply.started": "2025-03-24T14:26:52.232604Z"
    }
   },
   "outputs": [
    {
     "name": "stderr",
     "output_type": "stream",
     "text": [
      "[Stage 4:>                                                          (0 + 1) / 1]\r"
     ]
    },
    {
     "name": "stdout",
     "output_type": "stream",
     "text": [
      "+--------------------+--------------------+--------+--------------------+\n",
      "|                  id|            datetime|     key|               value|\n",
      "+--------------------+--------------------+--------+--------------------+\n",
      "|S2A_T32VPN_202503...|2025-03-24 10:44:...|  swir16|{https://e84-eart...|\n",
      "|S2A_T32VPN_202503...|2025-03-24 10:44:...|  swir22|{https://e84-eart...|\n",
      "|S2A_T32VPN_202503...|2025-03-24 10:44:...|rededge1|{https://e84-eart...|\n",
      "+--------------------+--------------------+--------+--------------------+\n",
      "only showing top 3 rows\n",
      "\n"
     ]
    },
    {
     "name": "stderr",
     "output_type": "stream",
     "text": [
      "                                                                                \r"
     ]
    }
   ],
   "source": [
    "df_exploded.show(3)"
   ]
  },
  {
   "cell_type": "code",
   "execution_count": 7,
   "id": "a321d1c5-9151-47e3-ac45-06921f39ee33",
   "metadata": {
    "execution": {
     "iopub.execute_input": "2025-03-24T14:27:06.748920Z",
     "iopub.status.busy": "2025-03-24T14:27:06.748284Z",
     "iopub.status.idle": "2025-03-24T14:27:06.752735Z",
     "shell.execute_reply": "2025-03-24T14:27:06.752238Z",
     "shell.execute_reply.started": "2025-03-24T14:27:06.748890Z"
    }
   },
   "outputs": [
    {
     "data": {
      "text/plain": [
       "pyspark.sql.dataframe.DataFrame"
      ]
     },
     "execution_count": 7,
     "metadata": {},
     "output_type": "execute_result"
    }
   ],
   "source": [
    "type(df_exploded)"
   ]
  },
  {
   "cell_type": "code",
   "execution_count": 8,
   "id": "3979fa69-0fd6-40fd-86a4-9dc69b189969",
   "metadata": {
    "execution": {
     "iopub.execute_input": "2025-03-24T14:27:09.364785Z",
     "iopub.status.busy": "2025-03-24T14:27:09.364565Z",
     "iopub.status.idle": "2025-03-24T14:27:16.870988Z",
     "shell.execute_reply": "2025-03-24T14:27:16.870250Z",
     "shell.execute_reply.started": "2025-03-24T14:27:09.364769Z"
    }
   },
   "outputs": [
    {
     "name": "stderr",
     "output_type": "stream",
     "text": [
      "                                                                                \r"
     ]
    },
    {
     "data": {
      "text/plain": [
       "230"
      ]
     },
     "execution_count": 8,
     "metadata": {},
     "output_type": "execute_result"
    }
   ],
   "source": [
    "df_exploded.count()"
   ]
  },
  {
   "cell_type": "code",
   "execution_count": 9,
   "id": "b93a9e2a-4cfc-4a7e-8adf-2fb40ec9cddd",
   "metadata": {
    "execution": {
     "iopub.execute_input": "2025-03-24T14:27:16.872048Z",
     "iopub.status.busy": "2025-03-24T14:27:16.871875Z",
     "iopub.status.idle": "2025-03-24T14:27:22.365114Z",
     "shell.execute_reply": "2025-03-24T14:27:22.364715Z",
     "shell.execute_reply.started": "2025-03-24T14:27:16.872033Z"
    }
   },
   "outputs": [
    {
     "name": "stderr",
     "output_type": "stream",
     "text": [
      "[Stage 22:>                                                         (0 + 1) / 1]\r"
     ]
    },
    {
     "name": "stdout",
     "output_type": "stream",
     "text": [
      "+------------------------------+-----------------------+-----------------+----------------------------------------------------------------------------------------------------------------------------------------------------------------------------------------------------------------------------------------------------------------------------------------+\n",
      "|id                            |datetime               |key              |value                                                                                                                                                                                                                                                                                   |\n",
      "+------------------------------+-----------------------+-----------------+----------------------------------------------------------------------------------------------------------------------------------------------------------------------------------------------------------------------------------------------------------------------------------------+\n",
      "|S2A_T32VPN_20250324T103713_L2A|2025-03-24 10:44:01.079|swir16           |{https://e84-earth-search-sentinel-data.s3.us-west-2.amazonaws.com/sentinel-2-c1-l2a/32/V/PN/2025/3/S2A_T32VPN_20250324T103713_L2A/B11.tif, image/tiff; application=geotiff; profile=cloud-optimized, SWIR 1.6μm - 20m, [data, reflectance], LazyLoadOutDbGridCoverage2D[not loaded]}   |\n",
      "|S2A_T32VPN_20250324T103713_L2A|2025-03-24 10:44:01.079|swir22           |{https://e84-earth-search-sentinel-data.s3.us-west-2.amazonaws.com/sentinel-2-c1-l2a/32/V/PN/2025/3/S2A_T32VPN_20250324T103713_L2A/B12.tif, image/tiff; application=geotiff; profile=cloud-optimized, SWIR 2.2μm - 20m, [data, reflectance], LazyLoadOutDbGridCoverage2D[not loaded]}   |\n",
      "|S2A_T32VPN_20250324T103713_L2A|2025-03-24 10:44:01.079|rededge1         |{https://e84-earth-search-sentinel-data.s3.us-west-2.amazonaws.com/sentinel-2-c1-l2a/32/V/PN/2025/3/S2A_T32VPN_20250324T103713_L2A/B05.tif, image/tiff; application=geotiff; profile=cloud-optimized, Red Edge 1 - 20m, [data, reflectance], LazyLoadOutDbGridCoverage2D[not loaded]}   |\n",
      "|S2A_T32VPN_20250324T103713_L2A|2025-03-24 10:44:01.079|granule_metadata |{https://e84-earth-search-sentinel-data.s3.us-west-2.amazonaws.com/sentinel-2-c1-l2a/32/V/PN/2025/3/S2A_T32VPN_20250324T103713_L2A/metadata.xml, application/xml, NULL, [metadata], LazyLoadOutDbGridCoverage2D[not loaded]}                                                            |\n",
      "|S2A_T32VPN_20250324T103713_L2A|2025-03-24 10:44:01.079|blue             |{https://e84-earth-search-sentinel-data.s3.us-west-2.amazonaws.com/sentinel-2-c1-l2a/32/V/PN/2025/3/S2A_T32VPN_20250324T103713_L2A/B02.tif, image/tiff; application=geotiff; profile=cloud-optimized, Blue - 10m, [data, reflectance], LazyLoadOutDbGridCoverage2D[not loaded]}         |\n",
      "|S2A_T32VPN_20250324T103713_L2A|2025-03-24 10:44:01.079|cloud            |{https://e84-earth-search-sentinel-data.s3.us-west-2.amazonaws.com/sentinel-2-c1-l2a/32/V/PN/2025/3/S2A_T32VPN_20250324T103713_L2A/CLD_20m.tif, image/tiff; application=geotiff; profile=cloud-optimized, Cloud Probabilities, [data, cloud], LazyLoadOutDbGridCoverage2D[not loaded]}  |\n",
      "|S2A_T32VPN_20250324T103713_L2A|2025-03-24 10:44:01.079|nir              |{https://e84-earth-search-sentinel-data.s3.us-west-2.amazonaws.com/sentinel-2-c1-l2a/32/V/PN/2025/3/S2A_T32VPN_20250324T103713_L2A/B08.tif, image/tiff; application=geotiff; profile=cloud-optimized, NIR 1 - 10m, [data, reflectance], LazyLoadOutDbGridCoverage2D[not loaded]}        |\n",
      "|S2A_T32VPN_20250324T103713_L2A|2025-03-24 10:44:01.079|nir09            |{https://e84-earth-search-sentinel-data.s3.us-west-2.amazonaws.com/sentinel-2-c1-l2a/32/V/PN/2025/3/S2A_T32VPN_20250324T103713_L2A/B09.tif, image/tiff; application=geotiff; profile=cloud-optimized, NIR 3 - 60m, [data, reflectance], LazyLoadOutDbGridCoverage2D[not loaded]}        |\n",
      "|S2A_T32VPN_20250324T103713_L2A|2025-03-24 10:44:01.079|nir08            |{https://e84-earth-search-sentinel-data.s3.us-west-2.amazonaws.com/sentinel-2-c1-l2a/32/V/PN/2025/3/S2A_T32VPN_20250324T103713_L2A/B8A.tif, image/tiff; application=geotiff; profile=cloud-optimized, NIR 2 - 20m, [data, reflectance], LazyLoadOutDbGridCoverage2D[not loaded]}        |\n",
      "|S2A_T32VPN_20250324T103713_L2A|2025-03-24 10:44:01.079|tileinfo_metadata|{https://e84-earth-search-sentinel-data.s3.us-west-2.amazonaws.com/sentinel-2-c1-l2a/32/V/PN/2025/3/S2A_T32VPN_20250324T103713_L2A/tileInfo.json, application/json, NULL, [metadata], LazyLoadOutDbGridCoverage2D[not loaded]}                                                          |\n",
      "|S2A_T32VPN_20250324T103713_L2A|2025-03-24 10:44:01.079|scl              |{https://e84-earth-search-sentinel-data.s3.us-west-2.amazonaws.com/sentinel-2-c1-l2a/32/V/PN/2025/3/S2A_T32VPN_20250324T103713_L2A/SCL.tif, image/tiff; application=geotiff; profile=cloud-optimized, Scene classification map (SCL), [data], LazyLoadOutDbGridCoverage2D[not loaded]}  |\n",
      "|S2A_T32VPN_20250324T103713_L2A|2025-03-24 10:44:01.079|aot              |{https://e84-earth-search-sentinel-data.s3.us-west-2.amazonaws.com/sentinel-2-c1-l2a/32/V/PN/2025/3/S2A_T32VPN_20250324T103713_L2A/AOT.tif, image/tiff; application=geotiff; profile=cloud-optimized, Aerosol optical thickness (AOT), [data], LazyLoadOutDbGridCoverage2D[not loaded]} |\n",
      "|S2A_T32VPN_20250324T103713_L2A|2025-03-24 10:44:01.079|green            |{https://e84-earth-search-sentinel-data.s3.us-west-2.amazonaws.com/sentinel-2-c1-l2a/32/V/PN/2025/3/S2A_T32VPN_20250324T103713_L2A/B03.tif, image/tiff; application=geotiff; profile=cloud-optimized, Green - 10m, [data, reflectance], LazyLoadOutDbGridCoverage2D[not loaded]}        |\n",
      "|S2A_T32VPN_20250324T103713_L2A|2025-03-24 10:44:01.079|preview          |{https://e84-earth-search-sentinel-data.s3.us-west-2.amazonaws.com/sentinel-2-c1-l2a/32/V/PN/2025/3/S2A_T32VPN_20250324T103713_L2A/L2A_PVI.tif, image/tiff; application=geotiff; profile=cloud-optimized, True color preview, [overview], LazyLoadOutDbGridCoverage2D[not loaded]}      |\n",
      "|S2A_T32VPN_20250324T103713_L2A|2025-03-24 10:44:01.079|rededge3         |{https://e84-earth-search-sentinel-data.s3.us-west-2.amazonaws.com/sentinel-2-c1-l2a/32/V/PN/2025/3/S2A_T32VPN_20250324T103713_L2A/B07.tif, image/tiff; application=geotiff; profile=cloud-optimized, Red Edge 3 - 20m, [data, reflectance], LazyLoadOutDbGridCoverage2D[not loaded]}   |\n",
      "|S2A_T32VPN_20250324T103713_L2A|2025-03-24 10:44:01.079|thumbnail        |{https://e84-earth-search-sentinel-data.s3.us-west-2.amazonaws.com/sentinel-2-c1-l2a/32/V/PN/2025/3/S2A_T32VPN_20250324T103713_L2A/L2A_PVI.jpg, image/jpeg, Thumbnail of preview image, [thumbnail], LazyLoadOutDbGridCoverage2D[not loaded]}                                           |\n",
      "|S2A_T32VPN_20250324T103713_L2A|2025-03-24 10:44:01.079|snow             |{https://e84-earth-search-sentinel-data.s3.us-west-2.amazonaws.com/sentinel-2-c1-l2a/32/V/PN/2025/3/S2A_T32VPN_20250324T103713_L2A/SNW_20m.tif, image/tiff; application=geotiff; profile=cloud-optimized, Snow Probabilities, [data, snow-ice], LazyLoadOutDbGridCoverage2D[not loaded]}|\n",
      "|S2A_T32VPN_20250324T103713_L2A|2025-03-24 10:44:01.079|coastal          |{https://e84-earth-search-sentinel-data.s3.us-west-2.amazonaws.com/sentinel-2-c1-l2a/32/V/PN/2025/3/S2A_T32VPN_20250324T103713_L2A/B01.tif, image/tiff; application=geotiff; profile=cloud-optimized, Coastal - 60m, [data, reflectance], LazyLoadOutDbGridCoverage2D[not loaded]}      |\n",
      "|S2A_T32VPN_20250324T103713_L2A|2025-03-24 10:44:01.079|rededge2         |{https://e84-earth-search-sentinel-data.s3.us-west-2.amazonaws.com/sentinel-2-c1-l2a/32/V/PN/2025/3/S2A_T32VPN_20250324T103713_L2A/B06.tif, image/tiff; application=geotiff; profile=cloud-optimized, Red Edge 2 - 20m, [data, reflectance], LazyLoadOutDbGridCoverage2D[not loaded]}   |\n",
      "|S2A_T32VPN_20250324T103713_L2A|2025-03-24 10:44:01.079|wvp              |{https://e84-earth-search-sentinel-data.s3.us-west-2.amazonaws.com/sentinel-2-c1-l2a/32/V/PN/2025/3/S2A_T32VPN_20250324T103713_L2A/WVP.tif, image/tiff; application=geotiff; profile=cloud-optimized, Water Vapour (WVP), [data], LazyLoadOutDbGridCoverage2D[not loaded]}              |\n",
      "+------------------------------+-----------------------+-----------------+----------------------------------------------------------------------------------------------------------------------------------------------------------------------------------------------------------------------------------------------------------------------------------------+\n",
      "only showing top 20 rows\n",
      "\n"
     ]
    },
    {
     "name": "stderr",
     "output_type": "stream",
     "text": [
      "                                                                                \r"
     ]
    }
   ],
   "source": [
    "df_exploded.show(truncate = False)"
   ]
  },
  {
   "cell_type": "code",
   "execution_count": 10,
   "id": "46dc1377-202d-4eab-86c9-7ed708d69b2f",
   "metadata": {
    "execution": {
     "iopub.execute_input": "2025-03-24T14:27:22.366154Z",
     "iopub.status.busy": "2025-03-24T14:27:22.365942Z",
     "iopub.status.idle": "2025-03-24T14:27:22.381466Z",
     "shell.execute_reply": "2025-03-24T14:27:22.381090Z",
     "shell.execute_reply.started": "2025-03-24T14:27:22.366134Z"
    }
   },
   "outputs": [],
   "source": [
    "# Select the 'rast' field from the 'value' struct\n",
    "df_rast = df_exploded.select(\n",
    "    col(\"id\"), \n",
    "    col(\"datetime\"), \n",
    "    col(\"key\"), \n",
    "    col(\"value.href\").alias(\"href\"), \n",
    "    col(\"value.rast\").alias(\"rast\"),\n",
    "    col(\"value.title\").alias(\"title\"),\n",
    "    col(\"value.roles\").alias(\"elem\")\n",
    ")"
   ]
  },
  {
   "cell_type": "code",
   "execution_count": 11,
   "id": "0344dc58-d5db-49db-825c-6b3956709a75",
   "metadata": {
    "execution": {
     "iopub.execute_input": "2025-03-24T14:27:22.382346Z",
     "iopub.status.busy": "2025-03-24T14:27:22.382081Z",
     "iopub.status.idle": "2025-03-24T14:27:27.233982Z",
     "shell.execute_reply": "2025-03-24T14:27:27.233474Z",
     "shell.execute_reply.started": "2025-03-24T14:27:22.382326Z"
    }
   },
   "outputs": [
    {
     "name": "stderr",
     "output_type": "stream",
     "text": [
      "[Stage 26:>                                                         (0 + 1) / 1]\r"
     ]
    },
    {
     "name": "stdout",
     "output_type": "stream",
     "text": [
      "+--------------------+--------------------+--------+--------------------+--------------------+----------------+-------------------+\n",
      "|                  id|            datetime|     key|                href|                rast|           title|               elem|\n",
      "+--------------------+--------------------+--------+--------------------+--------------------+----------------+-------------------+\n",
      "|S2A_T32VPN_202503...|2025-03-24 10:44:...|  swir16|https://e84-earth...|LazyLoadOutDbGrid...|SWIR 1.6μm - 20m|[data, reflectance]|\n",
      "|S2A_T32VPN_202503...|2025-03-24 10:44:...|  swir22|https://e84-earth...|LazyLoadOutDbGrid...|SWIR 2.2μm - 20m|[data, reflectance]|\n",
      "|S2A_T32VPN_202503...|2025-03-24 10:44:...|rededge1|https://e84-earth...|LazyLoadOutDbGrid...|Red Edge 1 - 20m|[data, reflectance]|\n",
      "+--------------------+--------------------+--------+--------------------+--------------------+----------------+-------------------+\n",
      "only showing top 3 rows\n",
      "\n"
     ]
    },
    {
     "name": "stderr",
     "output_type": "stream",
     "text": [
      "                                                                                \r"
     ]
    }
   ],
   "source": [
    "df_rast.show(3)"
   ]
  },
  {
   "cell_type": "code",
   "execution_count": 14,
   "id": "4f051ec7-2789-448f-9137-d8f0e4973e1e",
   "metadata": {
    "execution": {
     "iopub.execute_input": "2025-03-24T14:27:49.716976Z",
     "iopub.status.busy": "2025-03-24T14:27:49.716443Z",
     "iopub.status.idle": "2025-03-24T14:27:54.762445Z",
     "shell.execute_reply": "2025-03-24T14:27:54.761772Z",
     "shell.execute_reply.started": "2025-03-24T14:27:49.716949Z"
    }
   },
   "outputs": [
    {
     "name": "stderr",
     "output_type": "stream",
     "text": [
      "                                                                                \r"
     ]
    },
    {
     "data": {
      "text/plain": [
       "230"
      ]
     },
     "execution_count": 14,
     "metadata": {},
     "output_type": "execute_result"
    }
   ],
   "source": [
    "df_rast.count()"
   ]
  },
  {
   "cell_type": "markdown",
   "id": "e8a56bb0-4f3c-4042-aa41-ce054e5d66d0",
   "metadata": {},
   "source": [
    "Integrate with OutDB Raster\n",
    "filter the df_rast DataFrame to select rows where the href column ends with .tif, limits the results to 4 rows, and converts the rast field into an image using the RS_AsImage function. The resulting DataFrame, which contains the generated images, is then displayed using SedonaUtils.display_image."
   ]
  },
  {
   "cell_type": "code",
   "execution_count": 15,
   "id": "3efccec3-dfe2-44d0-ba4f-48f227f72eb9",
   "metadata": {
    "execution": {
     "iopub.execute_input": "2025-03-24T14:27:54.763621Z",
     "iopub.status.busy": "2025-03-24T14:27:54.763391Z",
     "iopub.status.idle": "2025-03-24T14:28:11.777566Z",
     "shell.execute_reply": "2025-03-24T14:28:11.777055Z",
     "shell.execute_reply.started": "2025-03-24T14:27:54.763600Z"
    }
   },
   "outputs": [
    {
     "name": "stderr",
     "output_type": "stream",
     "text": [
      "                                                                                \r"
     ]
    },
    {
     "data": {
      "text/html": [
       "<table border=\"1\" class=\"dataframe\">\n",
       "  <thead>\n",
       "    <tr style=\"text-align: right;\">\n",
       "      <th></th>\n",
       "      <th>raster_image1</th>\n",
       "    </tr>\n",
       "  </thead>\n",
       "  <tbody>\n",
       "    <tr>\n",
       "      <th>0</th>\n",
       "      <td><img src=\"data:image/png;base64,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\" width=\"300\" /></td>\n",
       "    </tr>\n",
       "    <tr>\n",
       "      <th>1</th>\n",
       "      <td><img src=\"data:image/png;base64,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\" width=\"300\" /></td>\n",
       "    </tr>\n",
       "    <tr>\n",
       "      <th>2</th>\n",
       "      <td><img src=\"data:image/png;base64,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\" width=\"300\" /></td>\n",
       "    </tr>\n",
       "    <tr>\n",
       "      <th>3</th>\n",
       "      <td><img src=\"data:image/png;base64,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\" width=\"300\" /></td>\n",
       "    </tr>\n",
       "  </tbody>\n",
       "</table>"
      ],
      "text/plain": [
       "<IPython.core.display.HTML object>"
      ]
     },
     "metadata": {},
     "output_type": "display_data"
    }
   ],
   "source": [
    "from pyspark.sql import functions as F\n",
    "\n",
    "# Filter the DataFrame for '.tif' hrefs and limit to 4 items\n",
    "dfImage = df_rast.filter(F.col(\"href\").endswith(\".tif\")) \\\n",
    "    .limit(4) \\\n",
    "    .selectExpr(\"RS_AsImage(rast, 300) as raster_image1\")\n",
    "\n",
    "# Display the image\n",
    "SedonaUtils.display_image(dfImage)\n"
   ]
  },
  {
   "cell_type": "markdown",
   "id": "e69e047a-4c04-4f4a-a107-4430224f8c07",
   "metadata": {},
   "source": [
    "Python STAC API\n",
    "The STAC data source can also be loaded and searched using a new Python API. \n",
    "\n",
    "Initialize a STAC client by importing the Client class from the sedona.stac.client module and the DataFrame class from pyspark.sql. It then opens the client to connect to the Earth Search API using the specified URL (https://earth-search.aws.element84.com/v1)."
   ]
  },
  {
   "cell_type": "code",
   "execution_count": 16,
   "id": "a5f006b8-fbea-48fe-9c04-d17888ea139c",
   "metadata": {
    "execution": {
     "iopub.execute_input": "2025-03-24T14:28:36.611862Z",
     "iopub.status.busy": "2025-03-24T14:28:36.611641Z",
     "iopub.status.idle": "2025-03-24T14:28:36.695040Z",
     "shell.execute_reply": "2025-03-24T14:28:36.694590Z",
     "shell.execute_reply.started": "2025-03-24T14:28:36.611846Z"
    }
   },
   "outputs": [],
   "source": [
    "from sedona.stac.client import Client\n",
    "from pyspark.sql import DataFrame\n",
    "\n",
    "# Initialize the client\n",
    "client = Client.open(\"https://earth-search.aws.element84.com/v1\")\n"
   ]
  },
  {
   "cell_type": "markdown",
   "id": "5d1453cb-401f-4aba-a0e2-2b3f4794808b",
   "metadata": {},
   "source": [
    "uses the client.search() method to query the “sentinel-2-c1-l2a” collection from the STAC API, filtering results for items from the year 2025. It sets the return_dataframe parameter to False, meaning the search results will not be returned as a DataFrame. Finally, it prints the retrieved items."
   ]
  },
  {
   "cell_type": "code",
   "execution_count": 17,
   "id": "511e7649-4e3e-49ae-92ac-e1122e6cd336",
   "metadata": {
    "execution": {
     "iopub.execute_input": "2025-03-24T14:28:40.779581Z",
     "iopub.status.busy": "2025-03-24T14:28:40.779323Z",
     "iopub.status.idle": "2025-03-24T14:28:43.574203Z",
     "shell.execute_reply": "2025-03-24T14:28:43.573655Z",
     "shell.execute_reply.started": "2025-03-24T14:28:40.779565Z"
    }
   },
   "outputs": [
    {
     "name": "stderr",
     "output_type": "stream",
     "text": [
      "[Stage 51:>                                                         (0 + 1) / 1]\r"
     ]
    },
    {
     "name": "stdout",
     "output_type": "stream",
     "text": [
      "Loaded items: 10\n"
     ]
    },
    {
     "name": "stderr",
     "output_type": "stream",
     "text": [
      "                                                                                \r"
     ]
    }
   ],
   "source": [
    "# Search items on a collection within a year\n",
    "items = client.search(\n",
    "    collection_id=\"sentinel-2-c1-l2a\",\n",
    "    datetime=\"2025\",\n",
    "    return_dataframe=False\n",
    ")\n",
    "\n",
    "# Print the count of items\n",
    "items_list = list(items)\n",
    "print(f\"Loaded items: {len(items_list)}\")\n"
   ]
  },
  {
   "cell_type": "code",
   "execution_count": 16,
   "id": "331a6b2c-965d-4be1-82aa-68b1b464c265",
   "metadata": {
    "execution": {
     "iopub.execute_input": "2025-03-24T14:16:08.451210Z",
     "iopub.status.busy": "2025-03-24T14:16:08.450961Z",
     "iopub.status.idle": "2025-03-24T14:16:08.453905Z",
     "shell.execute_reply": "2025-03-24T14:16:08.453537Z",
     "shell.execute_reply.started": "2025-03-24T14:16:08.451193Z"
    }
   },
   "outputs": [
    {
     "name": "stdout",
     "output_type": "stream",
     "text": [
      "[<Item id=S2A_T33VUH_20250324T103713_L2A>, <Item id=S2A_T33VVH_20250324T103713_L2A>, <Item id=S2A_T33VWJ_20250324T103713_L2A>, <Item id=S2A_T34WDS_20250324T103713_L2A>, <Item id=S2A_T33WVP_20250324T103713_L2A>, <Item id=S2A_T34WDT_20250324T103713_L2A>, <Item id=S2A_T33WVR_20250324T103713_L2A>, <Item id=S2A_T34WEU_20250324T103713_L2A>, <Item id=S2A_T34WEV_20250324T103713_L2A>, <Item id=S2A_T35XNE_20250324T103713_L2A>]\n"
     ]
    }
   ],
   "source": [
    "print(items_list)"
   ]
  },
  {
   "cell_type": "code",
   "execution_count": 17,
   "id": "07ae4053-0b9b-4309-b8e6-03e61f60c62a",
   "metadata": {
    "execution": {
     "iopub.execute_input": "2025-03-24T14:16:12.540502Z",
     "iopub.status.busy": "2025-03-24T14:16:12.539757Z",
     "iopub.status.idle": "2025-03-24T14:16:15.395479Z",
     "shell.execute_reply": "2025-03-24T14:16:15.394826Z",
     "shell.execute_reply.started": "2025-03-24T14:16:12.540479Z"
    }
   },
   "outputs": [
    {
     "name": "stderr",
     "output_type": "stream",
     "text": [
      "[Stage 41:>                                                         (0 + 1) / 1]\r"
     ]
    },
    {
     "name": "stdout",
     "output_type": "stream",
     "text": [
      "Loaded items: 10\n"
     ]
    },
    {
     "name": "stderr",
     "output_type": "stream",
     "text": [
      "                                                                                \r"
     ]
    }
   ],
   "source": [
    "# Search items with bounding box and interval\n",
    "items = client.search(\n",
    "    collection_id=\"sentinel-2-c1-l2a\",\n",
    "    bbox=[-180.0, -90.0, 180.0, 90.0],\n",
    "    datetime=\"2025\",\n",
    "    return_dataframe=False\n",
    ")\n",
    "\n",
    "# Print the count of items\n",
    "items_list = list(items)\n",
    "print(f\"Loaded items: {len(items_list)}\")\n"
   ]
  },
  {
   "cell_type": "code",
   "execution_count": 18,
   "id": "409e9ea0-ced3-4f20-a586-895b50f03597",
   "metadata": {
    "execution": {
     "iopub.execute_input": "2025-03-24T14:28:48.380672Z",
     "iopub.status.busy": "2025-03-24T14:28:48.380450Z",
     "iopub.status.idle": "2025-03-24T14:28:48.384090Z",
     "shell.execute_reply": "2025-03-24T14:28:48.383604Z",
     "shell.execute_reply.started": "2025-03-24T14:28:48.380658Z"
    }
   },
   "outputs": [
    {
     "name": "stdout",
     "output_type": "stream",
     "text": [
      "[<Item id=S2A_T32VPN_20250324T103713_L2A>, <Item id=S2A_T33VUH_20250324T103713_L2A>, <Item id=S2A_T33VVH_20250324T103713_L2A>, <Item id=S2A_T32VNP_20250324T103713_L2A>, <Item id=S2A_T33VWH_20250324T103713_L2A>, <Item id=S2A_T33VVJ_20250324T103713_L2A>, <Item id=S2A_T32VNQ_20250324T103713_L2A>, <Item id=S2A_T33VWJ_20250324T103713_L2A>, <Item id=S2A_T33VVK_20250324T103713_L2A>, <Item id=S2A_T32VNR_20250324T103713_L2A>]\n"
     ]
    }
   ],
   "source": [
    "print(items_list)"
   ]
  },
  {
   "cell_type": "code",
   "execution_count": 19,
   "id": "d98ed680-18d1-4c47-bea3-97cd44fe6322",
   "metadata": {
    "execution": {
     "iopub.execute_input": "2025-03-24T14:28:51.500043Z",
     "iopub.status.busy": "2025-03-24T14:28:51.499789Z",
     "iopub.status.idle": "2025-03-24T14:28:54.117242Z",
     "shell.execute_reply": "2025-03-24T14:28:54.116660Z",
     "shell.execute_reply.started": "2025-03-24T14:28:51.500028Z"
    }
   },
   "outputs": [
    {
     "name": "stderr",
     "output_type": "stream",
     "text": [
      "[Stage 52:>                                                         (0 + 1) / 1]\r"
     ]
    },
    {
     "name": "stdout",
     "output_type": "stream",
     "text": [
      "Loaded items: 10\n"
     ]
    },
    {
     "name": "stderr",
     "output_type": "stream",
     "text": [
      "                                                                                \r"
     ]
    }
   ],
   "source": [
    "# Search items with bounding box and interval\n",
    "items = client.search(\n",
    "    collection_id=\"sentinel-2-c1-l2a\",\n",
    "    bbox=[-180.0, -90.0, 180.0, 90.0],\n",
    "    datetime=\"2025\",\n",
    "    return_dataframe=False\n",
    ")\n",
    "\n",
    "# Print the count of items\n",
    "items_list = list(items)\n",
    "print(f\"Loaded items: {len(items_list)}\")\n"
   ]
  },
  {
   "cell_type": "markdown",
   "id": "bbc0b138-fde2-4753-adb1-c89c2b5e1c1a",
   "metadata": {},
   "source": [
    "Save to STAC GeoParquet format.\n",
    "Use a stac df to stac geoparquet converter that can be used to write geoparquet without requiring users to explicitly cast the schema or explode the dataframe. This could potentially be implemented in stac_geopaquet writer using a stac df loaded if feasible."
   ]
  },
  {
   "cell_type": "markdown",
   "id": "73f87d2e-0d64-4705-ae97-9074ce592d37",
   "metadata": {},
   "source": [
    "Connect to the Microsoft Planetary Computer’s STAC API to fetch the “aster-l1t” collection. It defines spatial (bounding box) and temporal (datetime interval) extents for the data to be saved. The script checks if a specified output path (/tmp/stac_temp_aster-l1t) exists, deletes it if it does, and then saves the filtered items to GeoParquet. Afterward, it reads the saved GeoParquet data into a Spark DataFrame and displays the contents. Finally, it cleans up by deleting the output path again."
   ]
  },
  {
   "cell_type": "code",
   "execution_count": 19,
   "id": "7e469120-ce66-4bca-a35a-30a74c0b001d",
   "metadata": {
    "execution": {
     "iopub.execute_input": "2025-03-24T14:16:43.385999Z",
     "iopub.status.busy": "2025-03-24T14:16:43.385752Z",
     "iopub.status.idle": "2025-03-24T14:16:50.580864Z",
     "shell.execute_reply": "2025-03-24T14:16:50.580155Z",
     "shell.execute_reply.started": "2025-03-24T14:16:43.385983Z"
    }
   },
   "outputs": [
    {
     "name": "stderr",
     "output_type": "stream",
     "text": [
      "                                                                                \r"
     ]
    }
   ],
   "source": [
    "client_stac = Client.open(\"https://planetarycomputer.microsoft.com/api/stac/v1\")\n",
    "collection = client_stac.get_collection(\"aster-l1t\")\n",
    "\n",
    "# Definicja zakresów przestrzennych i czasowych\n",
    "bbox = [[-180.0, -90.0, 180.0, 90.0]]\n",
    "datetime = [[\"2006-01-01T00:00:00Z\", \"2007-01-01T00:00:00Z\"]]\n",
    "\n",
    "import os\n",
    "import shutil\n",
    "\n",
    "output_path = \"/tmp/stac_temp_aster-l1t\"\n",
    "\n",
    "# Usuń folder output_path, jeśli istnieje\n",
    "if os.path.exists(output_path):\n",
    "    shutil.rmtree(output_path)\n",
    "\n",
    "# Zapisz dane do GeoParquet\n",
    "collection.save_to_geoparquet(\n",
    "    output_path=output_path, bbox=bbox, datetime=datetime\n",
    ")\n",
    "\n",
    "# Usuń folder output_path, jeśli istnieje (opcjonalne)\n",
    "if os.path.exists(output_path):\n",
    "    shutil.rmtree(output_path)"
   ]
  },
  {
   "cell_type": "code",
   "execution_count": 23,
   "id": "cf0b3ee0-b37e-4c3f-8974-e084ae2a47bb",
   "metadata": {
    "execution": {
     "iopub.execute_input": "2025-03-24T14:32:52.520764Z",
     "iopub.status.busy": "2025-03-24T14:32:52.520553Z",
     "iopub.status.idle": "2025-03-24T14:32:58.897371Z",
     "shell.execute_reply": "2025-03-24T14:32:58.896641Z",
     "shell.execute_reply.started": "2025-03-24T14:32:52.520749Z"
    }
   },
   "outputs": [
    {
     "name": "stderr",
     "output_type": "stream",
     "text": [
      "                                                                                \r"
     ]
    }
   ],
   "source": [
    "client_stac = Client.open(\"https://planetarycomputer.microsoft.com/api/stac/v1\")\n",
    "collection = client_stac.get_collection(\"aster-l1t\")\n",
    "\n",
    "# Definicja zakresów przestrzennych i czasowych\n",
    "bbox = [[-180.0, -90.0, 180.0, 90.0]]\n",
    "datetime = [[\"2006-01-01T00:00:00Z\", \"2007-01-01T00:00:00Z\"]]\n",
    "\n",
    "import os\n",
    "import shutil\n",
    "\n",
    "output_path = \"/tmp/stac_temp_aster-l1t\"\n",
    "\n",
    "# Usuń folder output_path, jeśli istnieje\n",
    "if os.path.exists(output_path):\n",
    "    shutil.rmtree(output_path)\n",
    "\n",
    "# Zapisz dane do GeoParquet\n",
    "collection.save_to_geoparquet(\n",
    "    output_path=output_path, bbox=bbox, datetime=datetime\n",
    ")\n"
   ]
  },
  {
   "cell_type": "code",
   "execution_count": null,
   "id": "78866b49-590a-48d1-b1d8-e26eface3f65",
   "metadata": {},
   "outputs": [],
   "source": []
  }
 ],
 "metadata": {
  "kernelspec": {
   "display_name": "Python 3 (ipykernel)",
   "language": "python",
   "name": "python3"
  },
  "language_info": {
   "codemirror_mode": {
    "name": "ipython",
    "version": 3
   },
   "file_extension": ".py",
   "mimetype": "text/x-python",
   "name": "python",
   "nbconvert_exporter": "python",
   "pygments_lexer": "ipython3",
   "version": "3.11.11"
  }
 },
 "nbformat": 4,
 "nbformat_minor": 5
}
